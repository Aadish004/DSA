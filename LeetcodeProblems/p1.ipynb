{
 "cells": [
  {
   "cell_type": "code",
   "execution_count": null,
   "metadata": {},
   "outputs": [
    {
     "name": "stdout",
     "output_type": "stream",
     "text": [
      "[1, 2]\n"
     ]
    }
   ],
   "source": [
    "#sum of two numbers in an list\n",
    "from typing import List\n",
    "\n",
    "class Solution:\n",
    "    def twoSum(self, nums: List[int], target: int) -> List[int]:\n",
    "        n = len(nums)\n",
    "        for i in range(n):\n",
    "            for j in range(i+1,n):\n",
    "                if nums[i] + nums[j] == target:\n",
    "                    return [i,j]\n",
    "        # You can add the logic for the two sum problem here\n",
    "        return []\n",
    "\n",
    "# Create an instance of the Solution class\n",
    "solution = Solution()\n",
    "# Call the twoSum method with an array and a target value\n",
    "result = solution.twoSum([3,2,4], 6)\n",
    "print(result)\n",
    "\n",
    "\n",
    "#Time Complexity:O(n²) \n",
    "#Space Complexity:O(1) "
   ]
  },
  {
   "cell_type": "code",
   "execution_count": 19,
   "metadata": {},
   "outputs": [
    {
     "name": "stdout",
     "output_type": "stream",
     "text": [
      "[1, 2]\n"
     ]
    }
   ],
   "source": [
    "#optimal soultion using hash method \n",
    "class Solution:\n",
    "    def twoSum(self, nums: List[int], target: int) -> List[int]:\n",
    "        seen ={}\n",
    "        for i, num in enumerate(nums):\n",
    "            complement = target - num\n",
    "            if complement in seen:\n",
    "                return [seen[complement],i]\n",
    "            seen[num] = i\n",
    "        return []\n",
    "# Create an instance of the Solution class\n",
    "solution = Solution()\n",
    "# Call the twoSum method with an array and a target value\n",
    "result = solution.twoSum([3,2,4], 6)\n",
    "print(result)\n"
   ]
  }
 ],
 "metadata": {
  "kernelspec": {
   "display_name": "Python 3",
   "language": "python",
   "name": "python3"
  },
  "language_info": {
   "codemirror_mode": {
    "name": "ipython",
    "version": 3
   },
   "file_extension": ".py",
   "mimetype": "text/x-python",
   "name": "python",
   "nbconvert_exporter": "python",
   "pygments_lexer": "ipython3",
   "version": "3.9.6"
  }
 },
 "nbformat": 4,
 "nbformat_minor": 2
}
