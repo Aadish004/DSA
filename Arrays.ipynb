{
 "cells": [
  {
   "cell_type": "code",
   "execution_count": 1,
   "metadata": {},
   "outputs": [],
   "source": [
    "import array as arr"
   ]
  },
  {
   "cell_type": "code",
   "execution_count": 2,
   "metadata": {},
   "outputs": [
    {
     "name": "stdout",
     "output_type": "stream",
     "text": [
      "array('i', [1, 2, 3])\n",
      "i\n"
     ]
    }
   ],
   "source": [
    "#creating an array\n",
    "myarray = arr.array('i',[1,2,3])\n",
    "print(myarray)\n",
    "\n",
    "#typecode\n",
    "\n",
    "print(myarray.typecode)"
   ]
  },
  {
   "cell_type": "code",
   "execution_count": 3,
   "metadata": {},
   "outputs": [
    {
     "name": "stdout",
     "output_type": "stream",
     "text": [
      "3\n"
     ]
    }
   ],
   "source": [
    "#printing the length of array we use len method\n",
    "\n",
    "print(len(myarray))"
   ]
  },
  {
   "cell_type": "code",
   "execution_count": 4,
   "metadata": {},
   "outputs": [
    {
     "name": "stdout",
     "output_type": "stream",
     "text": [
      "1 \n",
      "\n",
      "2 \n",
      "\n",
      "3 \n",
      "\n"
     ]
    }
   ],
   "source": [
    "for i in  range(len(myarray)):\n",
    "    print(myarray[i],end=\" \")\n",
    "    print(\"\\n\")\n"
   ]
  },
  {
   "cell_type": "code",
   "execution_count": 5,
   "metadata": {},
   "outputs": [
    {
     "name": "stdout",
     "output_type": "stream",
     "text": [
      "Element present in the position : 5\n"
     ]
    }
   ],
   "source": [
    "#search an element in an array\n",
    "\n",
    "def searchElementinArray (arr,n,key) :\n",
    "    for i in range(n):\n",
    "        if arr[i] == key:\n",
    "            return i\n",
    "    return -1\n",
    "\n",
    "temparray = [1,2,3,4,6,435,15,154,345145,345354,35,34535,34545231,312,980]\n",
    "n = len(temparray)\n",
    "key = 435\n",
    "result = searchElementinArray(temparray, n, key)\n",
    "print(\"Element present in the position :\",result)"
   ]
  },
  {
   "cell_type": "code",
   "execution_count": 19,
   "metadata": {},
   "outputs": [
    {
     "name": "stdout",
     "output_type": "stream",
     "text": [
      "3 1 2 "
     ]
    }
   ],
   "source": [
    "#rotate an array\n",
    "\n",
    "#appproch 1 --- Navie approch\n",
    "myarray1 = [1,2,3]\n",
    "\n",
    "def rotateAnArray (arr,d) :\n",
    "    n = len(arr)\n",
    "    for i in range(d):\n",
    "        first = arr[0]\n",
    "        for j in range(n-1):\n",
    "            arr [j] = arr[j+1]\n",
    "        arr[n-1] = first\n",
    "\n",
    "rotateAnArray(myarray1,2)\n",
    "for i in range(len(myarray1)):\n",
    "    print(myarray1[i], end=\" \")"
   ]
  }
 ],
 "metadata": {
  "kernelspec": {
   "display_name": "Python 3",
   "language": "python",
   "name": "python3"
  },
  "language_info": {
   "codemirror_mode": {
    "name": "ipython",
    "version": 3
   },
   "file_extension": ".py",
   "mimetype": "text/x-python",
   "name": "python",
   "nbconvert_exporter": "python",
   "pygments_lexer": "ipython3",
   "version": "3.9.6"
  }
 },
 "nbformat": 4,
 "nbformat_minor": 2
}
